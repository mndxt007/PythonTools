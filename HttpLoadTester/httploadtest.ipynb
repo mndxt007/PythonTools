{
 "cells": [
  {
   "cell_type": "code",
   "execution_count": 1,
   "metadata": {},
   "outputs": [],
   "source": [
    "import xlsxwriter\n",
    "import asyncio\n",
    "import requests\n",
    "from datetime import datetime\n",
    "import urllib3\n",
    "urllib3.disable_warnings()"
   ]
  },
  {
   "cell_type": "code",
   "execution_count": 10,
   "metadata": {},
   "outputs": [],
   "source": [
    "def background(f):\n",
    "    def wrapped(*args, **kwargs):\n",
    "        return asyncio.get_event_loop().run_in_executor(None, f, *args, **kwargs)\n",
    "    return wrapped\n",
    "\n",
    "@background\n",
    "def httpattack(reqnum):\n",
    "    #for reqnum in range(numrequests):\n",
    "        worksheet.write(reqnum,0,reqnum)\n",
    "        curtime = datetime.now()\n",
    "        worksheet.write(reqnum,2,curtime.strftime(\"%m/%d/%Y, %H:%M:%S\"))\n",
    "        try:\n",
    "            r = requests.get(\"http://localhost/Products/Featured?\"+str(reqnum), verify=False)\n",
    "            worksheet.write(reqnum,1,r.status_code)\n",
    "            if (r.status_code > 499):\n",
    "                #worksheet.write(reqnum,5,str(r.text))\n",
    "                pass\n",
    "        except Exception as e:\n",
    "             worksheet.write(reqnum,5,str(e))\n",
    "        finally:\n",
    "            delta = datetime.now()- curtime\n",
    "            worksheet.write(reqnum,3,datetime.now().strftime(\"%m/%d/%Y, %H:%M:%S\"))\n",
    "            worksheet.write(reqnum,4,str(delta.seconds)+\".\"+str(delta.microseconds)[:3])\n",
    "        #print(r.status_code)\n",
    "        print(\"Completed HTTP Attack for \",reqnum)\n",
    "    #print(\"Completed HTTP Attack\")"
   ]
  },
  {
   "cell_type": "code",
   "execution_count": 11,
   "metadata": {},
   "outputs": [
    {
     "name": "stdout",
     "output_type": "stream",
     "text": [
      "Completed HTTP Attack for  0\n",
      "Completed HTTP Attack for  2\n",
      "Completed HTTP Attack for  3\n",
      "Completed HTTP Attack for  4\n",
      "Completed HTTP Attack for  5\n",
      "Completed HTTP Attack for  1\n",
      "Completed HTTP Attack for  11\n",
      "Completed HTTP Attack for  12\n",
      "Completed HTTP Attack for  13\n",
      "Completed HTTP Attack for  14\n",
      "Completed HTTP Attack for  15\n",
      "Completed HTTP Attack for  16\n",
      "Completed HTTP Attack for  17\n",
      "Completed HTTP Attack for  18\n",
      "Completed HTTP Attack for  19\n",
      "Completed HTTP Attack for  20\n",
      "Completed HTTP Attack for  21\n",
      "Completed HTTP Attack for  22\n",
      "Completed HTTP Attack for  23\n",
      "Completed HTTP Attack for  24\n",
      "Completed HTTP Attack for  25\n",
      "Completed HTTP Attack for  26\n",
      "Completed HTTP Attack for  27\n",
      "Completed HTTP Attack for  28\n",
      "Completed HTTP Attack for  29\n",
      "Completed HTTP Attack for  30\n",
      "Completed HTTP Attack for  31\n",
      "Completed HTTP Attack for  32\n",
      "Completed HTTP Attack for  33\n",
      "Completed HTTP Attack for  34\n",
      "Completed HTTP Attack for  35\n",
      "Completed HTTP Attack for  36\n",
      "Completed HTTP Attack for  37\n",
      "Completed HTTP Attack for  38\n",
      "Completed HTTP Attack for  39\n",
      "Completed HTTP Attack for  40\n",
      "Completed HTTP Attack for  41\n",
      "Completed HTTP Attack for  42\n",
      "Completed HTTP Attack for  43\n",
      "Completed HTTP Attack for  44\n",
      "Completed HTTP Attack for  45\n",
      "Completed HTTP Attack for  46\n",
      "Completed HTTP Attack for  47\n",
      "Completed HTTP Attack for  48\n",
      "Completed HTTP Attack for  49\n",
      "Completed HTTP Attack for  6\n",
      "Completed HTTP Attack for  7\n",
      "Completed HTTP Attack for  8\n",
      "Completed HTTP Attack for  9\n",
      "Completed HTTP Attack for  10\n"
     ]
    }
   ],
   "source": [
    "workbook = xlsxwriter.Workbook('httpattack.xlsx')\n",
    "worksheet = workbook.add_worksheet()\n",
    "for reqnum in range(50):\n",
    "    httpattack(reqnum)"
   ]
  },
  {
   "cell_type": "code",
   "execution_count": 12,
   "metadata": {},
   "outputs": [],
   "source": [
    "workbook.close()"
   ]
  },
  {
   "cell_type": "code",
   "execution_count": 16,
   "metadata": {},
   "outputs": [
    {
     "data": {
      "text/plain": [
       "datetime.datetime(2022, 4, 27, 16, 49, 53, 272331)"
      ]
     },
     "execution_count": 16,
     "metadata": {},
     "output_type": "execute_result"
    }
   ],
   "source": [
    "from datetime import datetime\n",
    "curtime = datetime.now()\n",
    "curtime"
   ]
  },
  {
   "cell_type": "code",
   "execution_count": 24,
   "metadata": {},
   "outputs": [],
   "source": [
    "delta = datetime.now() - curtime"
   ]
  },
  {
   "cell_type": "code",
   "execution_count": 26,
   "metadata": {},
   "outputs": [
    {
     "data": {
      "text/plain": [
       "'0:05:13.405928'"
      ]
     },
     "execution_count": 26,
     "metadata": {},
     "output_type": "execute_result"
    }
   ],
   "source": [
    "str(delta)\n"
   ]
  },
  {
   "cell_type": "code",
   "execution_count": 30,
   "metadata": {},
   "outputs": [
    {
     "data": {
      "text/plain": [
       "313"
      ]
     },
     "execution_count": 30,
     "metadata": {},
     "output_type": "execute_result"
    }
   ],
   "source": [
    "delta.seconds\n",
    "#delta.microseconds"
   ]
  },
  {
   "cell_type": "code",
   "execution_count": 28,
   "metadata": {},
   "outputs": [
    {
     "data": {
      "text/plain": [
       "'313.405'"
      ]
     },
     "execution_count": 28,
     "metadata": {},
     "output_type": "execute_result"
    }
   ],
   "source": [
    "str(delta.seconds)+\".\"+str(delta.microseconds)[:3]"
   ]
  },
  {
   "cell_type": "code",
   "execution_count": 19,
   "metadata": {},
   "outputs": [
    {
     "data": {
      "text/plain": [
       "'04/27/2022, 16:10:00'"
      ]
     },
     "execution_count": 19,
     "metadata": {},
     "output_type": "execute_result"
    }
   ],
   "source": [
    "curtime.strftime(\"%m/%d/%Y, %H:%M:%S\")"
   ]
  },
  {
   "cell_type": "code",
   "execution_count": null,
   "metadata": {},
   "outputs": [],
   "source": [
    "(curtime-datetime.now()).seconds"
   ]
  },
  {
   "cell_type": "code",
   "execution_count": 8,
   "metadata": {},
   "outputs": [
    {
     "name": "stdout",
     "output_type": "stream",
     "text": [
      "division by zero\n"
     ]
    }
   ],
   "source": [
    "try:\n",
    "    5/0\n",
    "except Exception as e:\n",
    "    print(e)"
   ]
  },
  {
   "cell_type": "code",
   "execution_count": 15,
   "metadata": {},
   "outputs": [],
   "source": [
    "r = requests.get(\"http://localhost\")"
   ]
  },
  {
   "cell_type": "code",
   "execution_count": 7,
   "metadata": {},
   "outputs": [
    {
     "data": {
      "text/plain": [
       "[]"
      ]
     },
     "execution_count": 7,
     "metadata": {},
     "output_type": "execute_result"
    }
   ],
   "source": [
    "r.history"
   ]
  },
  {
   "cell_type": "code",
   "execution_count": 8,
   "metadata": {},
   "outputs": [
    {
     "data": {
      "text/plain": [
       "'http://localhost/'"
      ]
     },
     "execution_count": 8,
     "metadata": {},
     "output_type": "execute_result"
    }
   ],
   "source": [
    "r.url"
   ]
  },
  {
   "cell_type": "code",
   "execution_count": 17,
   "metadata": {},
   "outputs": [
    {
     "name": "stdout",
     "output_type": "stream",
     "text": [
      "False\n"
     ]
    }
   ],
   "source": [
    "if r.history:\n",
    "    print(\"True\")\n",
    "else:\n",
    "    print(\"False\")"
   ]
  },
  {
   "cell_type": "code",
   "execution_count": null,
   "metadata": {},
   "outputs": [],
   "source": []
  }
 ],
 "metadata": {
  "interpreter": {
   "hash": "f08154012ddadd8e950e6e9e035c7a7b32c136e7647e9b7c77e02eb723a8bedb"
  },
  "kernelspec": {
   "display_name": "Python 3.9.7 ('base')",
   "language": "python",
   "name": "python3"
  },
  "language_info": {
   "codemirror_mode": {
    "name": "ipython",
    "version": 3
   },
   "file_extension": ".py",
   "mimetype": "text/x-python",
   "name": "python",
   "nbconvert_exporter": "python",
   "pygments_lexer": "ipython3",
   "version": "3.9.7"
  },
  "orig_nbformat": 4
 },
 "nbformat": 4,
 "nbformat_minor": 2
}
