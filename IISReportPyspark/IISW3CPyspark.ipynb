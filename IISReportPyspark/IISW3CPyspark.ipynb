{
 "cells": [
  {
   "cell_type": "code",
   "execution_count": 2,
   "metadata": {},
   "outputs": [],
   "source": [
    "from pyspark.sql import SparkSession,SQLContext\n",
    "\n",
    "spark = SparkSession.builder.master(\"local\").appName(\"DA\").getOrCreate()\n",
    "\n"
   ]
  },
  {
   "cell_type": "code",
   "execution_count": 14,
   "metadata": {},
   "outputs": [],
   "source": [
    "from operator import delitem\n",
    "import os\n",
    "\n",
    "current_dir = os.getcwd()\n",
    "# Define the file name\n",
    "file_name = \"sampleIISlogs/u_ex240425.log\"\n",
    "\n",
    "# needs some cleanup activity before reading the file (like removing the comments)\n",
    "# Construct the file path\n",
    "file_path = os.path.join(current_dir, file_name)\n",
    "\n",
    "ODataFrame1 = spark.read.csv(\n",
    "file_path,\n",
    "header=True,\n",
    "sep=' ',\n",
    "inferSchema=True,\n",
    "nullValue='null'\n",
    ")\n"
   ]
  },
  {
   "cell_type": "code",
   "execution_count": 15,
   "metadata": {},
   "outputs": [
    {
     "name": "stdout",
     "output_type": "stream",
     "text": [
      "+----------+-------------------+----+---------+--------------------+--------------------+------+-----------+----+--------------------+--------------------+---------+------------+---------------+----------+\n",
      "|      date|               time|s-ip|cs-method|         cs-uri-stem|        cs-uri-query|s-port|cs-username|c-ip|      cs(User-Agent)|         cs(Referer)|sc-status|sc-substatus|sc-win32-status|time-taken|\n",
      "+----------+-------------------+----+---------+--------------------+--------------------+------+-----------+----+--------------------+--------------------+---------+------------+---------------+----------+\n",
      "|2024-04-25|2024-04-25 06:22:45| ::1|      GET|                   /|                   -|  8126|          -| ::1|Mozilla/5.0+(Wind...|                   -|      200|           0|              0|      2050|\n",
      "|2024-04-25|2024-04-25 06:22:45| ::1|      GET|         /js/site.js|v=4q1jwFhaPaZgr8W...|  8126|          -| ::1|Mozilla/5.0+(Wind...|http://localhost:...|      200|           0|              0|        38|\n",
      "|2024-04-25|2024-04-25 06:22:45| ::1|      GET|       /css/site.css|                   -|  8126|          -| ::1|Mozilla/5.0+(Wind...|http://localhost:...|      200|           0|              0|        49|\n",
      "|2024-04-25|2024-04-25 06:22:45| ::1|      GET|/lib/bootstrap/di...|                   -|  8126|          -| ::1|Mozilla/5.0+(Wind...|http://localhost:...|      200|           0|              0|        69|\n",
      "|2024-04-25|2024-04-25 06:22:45| ::1|      GET|/lib/bootstrap/di...|                   -|  8126|          -| ::1|Mozilla/5.0+(Wind...|http://localhost:...|      200|           0|              0|        99|\n",
      "+----------+-------------------+----+---------+--------------------+--------------------+------+-----------+----+--------------------+--------------------+---------+------------+---------------+----------+\n",
      "only showing top 5 rows\n",
      "\n"
     ]
    }
   ],
   "source": [
    "ODataFrame1.show(5)"
   ]
  },
  {
   "cell_type": "code",
   "execution_count": 16,
   "metadata": {},
   "outputs": [
    {
     "data": {
      "text/plain": [
       "['date',\n",
       " 'time',\n",
       " 's_ip',\n",
       " 'cs_method',\n",
       " 'cs_uri_stem',\n",
       " 'cs_uri_query',\n",
       " 's_port',\n",
       " 'cs_username',\n",
       " 'c_ip',\n",
       " 'cs_User_Agent_',\n",
       " 'cs_Referer_',\n",
       " 'sc_status',\n",
       " 'sc_substatus',\n",
       " 'sc_win32_status',\n",
       " 'time_taken']"
      ]
     },
     "execution_count": 16,
     "metadata": {},
     "output_type": "execute_result"
    }
   ],
   "source": [
    "# had issues with '-' so replaced it with '_'\n",
    "newdata = [item.replace('-','_').replace('(','_').replace(')','_') for item in ODataFrame1.schema.names ]\n",
    "newdata"
   ]
  },
  {
   "cell_type": "code",
   "execution_count": 17,
   "metadata": {},
   "outputs": [],
   "source": [
    "data = ODataFrame1.toDF(*newdata)"
   ]
  },
  {
   "cell_type": "code",
   "execution_count": 18,
   "metadata": {},
   "outputs": [
    {
     "name": "stdout",
     "output_type": "stream",
     "text": [
      "root\n",
      " |-- date: date (nullable = true)\n",
      " |-- time: timestamp (nullable = true)\n",
      " |-- s_ip: string (nullable = true)\n",
      " |-- cs_method: string (nullable = true)\n",
      " |-- cs_uri_stem: string (nullable = true)\n",
      " |-- cs_uri_query: string (nullable = true)\n",
      " |-- s_port: integer (nullable = true)\n",
      " |-- cs_username: string (nullable = true)\n",
      " |-- c_ip: string (nullable = true)\n",
      " |-- cs_User_Agent_: string (nullable = true)\n",
      " |-- cs_Referer_: string (nullable = true)\n",
      " |-- sc_status: integer (nullable = true)\n",
      " |-- sc_substatus: integer (nullable = true)\n",
      " |-- sc_win32_status: integer (nullable = true)\n",
      " |-- time_taken: integer (nullable = true)\n",
      "\n"
     ]
    }
   ],
   "source": [
    "data.createOrReplaceTempView(\"IISLogs2\")\n",
    "data.printSchema()"
   ]
  },
  {
   "cell_type": "code",
   "execution_count": 20,
   "metadata": {},
   "outputs": [
    {
     "name": "stdout",
     "output_type": "stream",
     "text": [
      "+------------------------------------------+---------------+-----+--------------+\n",
      "|time_window                               |sc_win32_status|count|avg_time_taken|\n",
      "+------------------------------------------+---------------+-----+--------------+\n",
      "|{2024-04-25 06:22:45, 2024-04-25 06:22:50}|0              |10   |250.2         |\n",
      "|{2024-04-25 06:22:55, 2024-04-25 06:23:00}|0              |1    |6191.0        |\n",
      "|{2024-04-25 06:22:55, 2024-04-25 06:23:00}|64             |1    |8632.0        |\n",
      "|{2024-04-25 06:23:00, 2024-04-25 06:23:05}|0              |2    |6043.0        |\n",
      "|{2024-04-25 06:23:15, 2024-04-25 06:23:20}|0              |1    |7170.0        |\n",
      "|{2024-04-25 06:23:30, 2024-04-25 06:23:35}|0              |1    |5023.0        |\n",
      "|{2024-04-25 06:23:35, 2024-04-25 06:23:40}|0              |1    |10030.0       |\n",
      "|{2024-04-25 06:23:40, 2024-04-25 06:23:45}|0              |2    |13429.5       |\n",
      "|{2024-04-25 06:23:45, 2024-04-25 06:23:50}|0              |1    |20044.0       |\n",
      "|{2024-04-25 06:23:50, 2024-04-25 06:23:55}|0              |1    |25044.0       |\n",
      "|{2024-04-25 06:23:55, 2024-04-25 06:24:00}|64             |1    |13747.0       |\n",
      "|{2024-04-25 06:23:55, 2024-04-25 06:24:00}|0              |1    |30057.0       |\n",
      "|{2024-04-25 06:24:00, 2024-04-25 06:24:05}|0              |2    |23524.0       |\n",
      "|{2024-04-25 06:24:05, 2024-04-25 06:24:10}|0              |1    |40060.0       |\n",
      "|{2024-04-25 06:24:10, 2024-04-25 06:24:15}|0              |1    |45059.0       |\n",
      "|{2024-04-25 06:24:15, 2024-04-25 06:24:20}|0              |1    |50064.0       |\n",
      "|{2024-04-25 06:24:20, 2024-04-25 06:24:25}|0              |1    |55069.0       |\n",
      "|{2024-04-25 06:24:25, 2024-04-25 06:24:30}|0              |1    |60081.0       |\n",
      "|{2024-04-25 06:24:30, 2024-04-25 06:24:35}|0              |1    |60088.0       |\n",
      "|{2024-04-25 06:24:35, 2024-04-25 06:24:40}|0              |1    |60085.0       |\n",
      "|{2024-04-25 06:24:40, 2024-04-25 06:24:45}|0              |1    |60084.0       |\n",
      "|{2024-04-25 06:24:45, 2024-04-25 06:24:50}|0              |1    |60077.0       |\n",
      "|{2024-04-25 06:24:50, 2024-04-25 06:24:55}|0              |1    |60091.0       |\n",
      "|{2024-04-25 06:24:55, 2024-04-25 06:25:00}|0              |1    |60087.0       |\n",
      "|{2024-04-25 06:25:00, 2024-04-25 06:25:05}|0              |1    |60093.0       |\n",
      "|{2024-04-25 06:25:05, 2024-04-25 06:25:10}|0              |1    |60098.0       |\n",
      "|{2024-04-25 06:25:10, 2024-04-25 06:25:15}|0              |1    |60104.0       |\n",
      "|{2024-04-25 06:25:15, 2024-04-25 06:25:20}|0              |1    |60105.0       |\n",
      "|{2024-04-25 06:25:20, 2024-04-25 06:25:25}|0              |1    |60107.0       |\n",
      "|{2024-04-25 06:25:25, 2024-04-25 06:25:30}|0              |1    |60106.0       |\n",
      "|{2024-04-25 06:25:30, 2024-04-25 06:25:35}|0              |1    |60104.0       |\n",
      "|{2024-04-25 06:25:35, 2024-04-25 06:25:40}|0              |1    |60115.0       |\n",
      "|{2024-04-25 06:25:40, 2024-04-25 06:25:45}|0              |1    |60112.0       |\n",
      "|{2024-04-25 06:25:45, 2024-04-25 06:25:50}|0              |1    |60119.0       |\n",
      "|{2024-04-25 06:25:50, 2024-04-25 06:25:55}|0              |1    |60111.0       |\n",
      "|{2024-04-25 06:25:55, 2024-04-25 06:26:00}|0              |1    |60110.0       |\n",
      "|{2024-04-25 06:26:00, 2024-04-25 06:26:05}|0              |1    |60110.0       |\n",
      "|{2024-04-25 06:26:05, 2024-04-25 06:26:10}|0              |1    |60110.0       |\n",
      "|{2024-04-25 06:26:10, 2024-04-25 06:26:15}|0              |1    |60108.0       |\n",
      "|{2024-04-25 06:26:15, 2024-04-25 06:26:20}|0              |1    |60109.0       |\n",
      "+------------------------------------------+---------------+-----+--------------+\n",
      "\n"
     ]
    }
   ],
   "source": [
    "sqlq = \"\"\"\n",
    "SELECT \n",
    "    window(\n",
    "        to_timestamp(date_format(date, 'yyyy-MM-dd') || ' ' || date_format(time, 'HH:mm:ss')), \n",
    "        \"5 seconds\"\n",
    "    ) as time_window,\n",
    "    sc_win32_status,\n",
    "    count(*) as count,\n",
    "    round(avg(time_taken), 2) as avg_time_taken\n",
    "FROM \n",
    "    IISLogs2\n",
    "WHERE \n",
    "    sc_status = 200\n",
    "GROUP BY \n",
    "    time_window,\n",
    "    sc_win32_status\n",
    "ORDER BY \n",
    "    time_window\n",
    "\"\"\"\n",
    "spark.sql(sqlq).show(80, truncate = False)"
   ]
  },
  {
   "cell_type": "code",
   "execution_count": 21,
   "metadata": {},
   "outputs": [
    {
     "name": "stdout",
     "output_type": "stream",
     "text": [
      "+----------+-------------------+----+---------+------------------+------------+------+-----------+----+--------------------+--------------------+---------+------------+---------------+----------+\n",
      "|      date|               time|s_ip|cs_method|       cs_uri_stem|cs_uri_query|s_port|cs_username|c_ip|      cs_User_Agent_|         cs_Referer_|sc_status|sc_substatus|sc_win32_status|time_taken|\n",
      "+----------+-------------------+----+---------+------------------+------------+------+-----------+----+--------------------+--------------------+---------+------------+---------------+----------+\n",
      "|2024-04-25|2024-04-25 06:22:57| ::1|      GET|/Products/Featured|           -|  8126|          -| ::1|Mozilla/5.0+(Wind...|http://localhost:...|      200|           0|              0|      6191|\n",
      "|2024-04-25|2024-04-25 06:23:02| ::1|      GET|/Products/Featured|           -|  8126|          -| ::1|Mozilla/5.0+(Wind...|http://localhost:...|      200|           0|              0|      5012|\n",
      "|2024-04-25|2024-04-25 06:23:34| ::1|      GET|/Products/Featured|           2|  8126|          -| ::1|python-requests/2...|                   -|      200|           0|              0|      5023|\n",
      "|2024-04-25|2024-04-25 06:23:39| ::1|      GET|/Products/Featured|           3|  8126|          -| ::1|python-requests/2...|                   -|      200|           0|              0|     10030|\n",
      "|2024-04-25|2024-04-25 06:23:44| ::1|      GET|/Products/Featured|           4|  8126|          -| ::1|python-requests/2...|                   -|      200|           0|              0|     15042|\n",
      "+----------+-------------------+----+---------+------------------+------------+------+-----------+----+--------------------+--------------------+---------+------------+---------------+----------+\n",
      "only showing top 5 rows\n",
      "\n"
     ]
    }
   ],
   "source": [
    "spark.sql(\"\"\"SELECT * from IISlogs2 where cs_uri_stem='/Products/Featured'\"\"\").show(5)"
   ]
  },
  {
   "cell_type": "code",
   "execution_count": 22,
   "metadata": {},
   "outputs": [
    {
     "name": "stdout",
     "output_type": "stream",
     "text": [
      "+---------------+---------------+-----------------+------------------+\n",
      "|min(time_taken)|max(time_taken)|  avg(time_taken)|       cs_uri_stem|\n",
      "+---------------+---------------+-----------------+------------------+\n",
      "|           5012|          60119|47890.86111111111|/Products/Featured|\n",
      "+---------------+---------------+-----------------+------------------+\n",
      "\n"
     ]
    }
   ],
   "source": [
    "spark.sql(\"\"\"SELECT min(time_taken),max(time_taken),avg(time_taken),cs_uri_stem \n",
    "from IISlogs2\n",
    "where cs_uri_stem='/Products/Featured'\n",
    "and time_taken > 0\n",
    "group by cs_uri_stem \n",
    "\"\"\").show(5)"
   ]
  },
  {
   "cell_type": "code",
   "execution_count": 23,
   "metadata": {},
   "outputs": [
    {
     "name": "stdout",
     "output_type": "stream",
     "text": [
      "+--------+\n",
      "|count(1)|\n",
      "+--------+\n",
      "|       4|\n",
      "+--------+\n",
      "\n"
     ]
    }
   ],
   "source": [
    "spark.sql(\"\"\"SELECT count(*) from IISlogs2 where time > '2024-04-25 06:22:57' and time < '2024-04-25 06:23:34'\"\"\").show(5)"
   ]
  }
 ],
 "metadata": {
  "kernelspec": {
   "display_name": "Python 3.8.10 64-bit",
   "language": "python",
   "name": "python3"
  },
  "language_info": {
   "codemirror_mode": {
    "name": "ipython",
    "version": 3
   },
   "file_extension": ".py",
   "mimetype": "text/x-python",
   "name": "python",
   "nbconvert_exporter": "python",
   "pygments_lexer": "ipython3",
   "version": "3.11.9"
  },
  "orig_nbformat": 4,
  "vscode": {
   "interpreter": {
    "hash": "916dbcbb3f70747c44a77c7bcd40155683ae19c65e1c03b4aa3499c5328201f1"
   }
  }
 },
 "nbformat": 4,
 "nbformat_minor": 2
}
